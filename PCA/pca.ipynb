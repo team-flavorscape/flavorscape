{
 "cells": [
  {
   "cell_type": "code",
   "execution_count": 15,
   "id": "2fd8383e",
   "metadata": {},
   "outputs": [],
   "source": [
    "import numpy as np\n",
    "import matplotlib.pyplot as plt\n",
    "from sklearn.decomposition import PCA"
   ]
  },
  {
   "cell_type": "code",
   "execution_count": 62,
   "id": "9affbefc",
   "metadata": {},
   "outputs": [],
   "source": [
    "keys = ['vegan',\n",
    "        'vegetarian',\n",
    "        'chicken',\n",
    "        'beef',\n",
    "        'pork',\n",
    "        'egg',\n",
    "        'tortilla',\n",
    "        'bread',\n",
    "        'rice',\n",
    "        'potato',\n",
    "        'noodles',\n",
    "        'salad'\n",
    "        'tomato',\n",
    "]\n",
    "\n",
    "data = np.array([[0, 0, 1, 0, 0, 0, 0, 0, 1, 0, 0, 0, 1],\n",
    "                 [0, 0, 1, 0, 0, 0, 1, 0, 0, 0, 0, 1, 1],\n",
    "                 [0, 0, 0, 1, 0, 0, 0, 0, 0, 1, 0, 0, 0],\n",
    "                 [0, 0, 0, 1, 0, 0, 0, 0, 0, 0, 1, 0, 0],\n",
    "                 [0, 0, 0, 0, 1, 0, 0, 0, 0, 0, 1, 1, 0],\n",
    "                 [0, 0, 0, 0, 1, 0, 0, 0, 1, 0, 0, 0, 0],\n",
    "                 [0, 1, 0, 0, 0, 1, 0, 0, 1, 0, 0, 0, 1],\n",
    "                 [0, 1, 0, 0, 0, 1, 0, 0, 0, 1, 0, 1, 0],\n",
    "                 [0, 1, 0, 0, 0, 1, 0, 0, 0, 0, 1, 0, 0],\n",
    "                 [1, 1, 0, 0, 0, 0, 1, 0, 0, 0, 0, 1, 0],\n",
    "                 [1, 1, 0, 0, 0, 0, 0, 1, 0, 0, 0, 1, 1],\n",
    "                 [1, 1, 0, 0, 0, 0, 1, 0, 0, 0, 0, 0, 1],\n",
    "                 [1, 1, 0, 0, 0, 0, 1, 0, 0, 0, 0, 1, 0],\n",
    "                 [1, 1, 0, 0, 0, 0, 0, 0, 1, 0, 0, 1, 1],\n",
    "                 [1, 1, 0, 0, 0, 0, 0, 0, 1, 0, 0, 1, 0],])"
   ]
  },
  {
   "cell_type": "code",
   "execution_count": 63,
   "id": "55d24930",
   "metadata": {},
   "outputs": [
    {
     "name": "stdout",
     "output_type": "stream",
     "text": [
      "[[ 0.46838878  3.47157145]\n",
      " [-0.71340544  2.45008258]\n",
      " [ 2.76625153 -0.95220988]\n",
      " [ 2.99613017 -0.449245  ]\n",
      " [ 2.01801057  0.00682542]\n",
      " [ 1.72708284  1.46740233]\n",
      " [-0.01509792  0.44653038]\n",
      " [ 0.60105049 -2.32554179]\n",
      " [ 1.45333086 -1.50555354]\n",
      " [-1.86104042 -1.06416056]\n",
      " [-2.62752786 -0.63207425]\n",
      " [-1.79373801  0.06139317]\n",
      " [-1.86104042 -1.06416056]\n",
      " [-1.85674725  0.44883531]\n",
      " [-1.30164793 -0.35969506]]\n"
     ]
    }
   ],
   "source": [
    "data_norm = (data - data.mean(axis=0)) / data.std(axis=0)\n",
    "\n",
    "pca = PCA(n_components=2)\n",
    "dim_reduced_data = pca.fit_transform(data_norm)\n",
    "print(dim_reduced_data)"
   ]
  },
  {
   "cell_type": "code",
   "execution_count": 67,
   "id": "d4c226ec",
   "metadata": {},
   "outputs": [
    {
     "data": {
      "text/plain": [
       "<matplotlib.collections.PathCollection at 0x7f5a3d99ea10>"
      ]
     },
     "execution_count": 67,
     "metadata": {},
     "output_type": "execute_result"
    },
    {
     "data": {
      "image/png": "[encoded data removed]",
      "text/plain": [
       "<Figure size 640x480 with 1 Axes>"
      ]
     },
     "metadata": {},
     "output_type": "display_data"
    }
   ],
   "source": [
    "plt.scatter(dim_reduced_data[:,0], dim_reduced_data[:,1], c=data[:,0])"
   ]
  },
  {
   "cell_type": "code",
   "execution_count": null,
   "id": "fba976d6",
   "metadata": {},
   "outputs": [],
   "source": []
  },
  {
   "cell_type": "code",
   "execution_count": null,
   "id": "f4e30f69",
   "metadata": {},
   "outputs": [],
   "source": []
  }
 ],
 "metadata": {
  "kernelspec": {
   "display_name": "Python 3 (ipykernel)",
   "language": "python",
   "name": "python3"
  },
  "language_info": {
   "codemirror_mode": {
    "name": "ipython",
    "version": 3
   },
   "file_extension": ".py",
   "mimetype": "text/x-python",
   "name": "python",
   "nbconvert_exporter": "python",
   "pygments_lexer": "ipython3",
   "version": "3.11.5"
  }
 },
 "nbformat": 4,
 "nbformat_minor": 5
}
