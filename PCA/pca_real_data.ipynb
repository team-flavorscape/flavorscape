{
 "cells": [
  {
   "cell_type": "code",
   "execution_count": 2,
   "id": "23135a7e",
   "metadata": {},
   "outputs": [],
   "source": [
    "import pickle\n",
    "import numpy as np\n",
    "\n",
    "import pandas\n",
    "import matplotlib.pyplot as plt\n",
    "from sklearn.decomposition import PCA"
   ]
  },
  {
   "cell_type": "code",
   "execution_count": 3,
   "id": "299aab53",
   "metadata": {},
   "outputs": [],
   "source": [
    "with open('/home/aleks/hackatum/flavorscape/data/recipes_10k.pkl', 'rb') as file:\n",
    "    data_pd = pickle.load(file)"
   ]
  },
  {
   "cell_type": "code",
   "execution_count": 5,
   "id": "c4707ef2",
   "metadata": {},
   "outputs": [
    {
     "data": {
      "text/plain": [
       "(10000, 181)"
      ]
     },
     "execution_count": 5,
     "metadata": {},
     "output_type": "execute_result"
    }
   ],
   "source": [
    "num_components = 5\n",
    "\n",
    "data_pd = data_pd.drop(data_pd.std()[data_pd.std() < 0.1].index.values, axis=1)\n",
    "\n",
    "data_np = data_pd.to_numpy()\n",
    "data_mean = data_np.mean(axis=0)\n",
    "data_std = data_np.std(axis=0)\n",
    "\n",
    "data_np.shape"
   ]
  },
  {
   "cell_type": "code",
   "execution_count": 6,
   "id": "b4416980",
   "metadata": {},
   "outputs": [],
   "source": [
    "data_np_norm = (data_np - data_mean) / data_std\n",
    "\n",
    "pca = PCA(n_components=num_components)\n",
    "dim_reduced_data = pca.fit_transform(data_np_norm)"
   ]
  },
  {
   "cell_type": "code",
   "execution_count": 14,
   "id": "a5453182",
   "metadata": {},
   "outputs": [
    {
     "ename": "KeyError",
     "evalue": "'asian'",
     "output_type": "error",
     "traceback": [
      "\u001b[0;31m---------------------------------------------------------------------------\u001b[0m",
      "\u001b[0;31mKeyError\u001b[0m                                  Traceback (most recent call last)",
      "File \u001b[0;32m~/miniconda3/envs/hackatum/lib/python3.11/site-packages/pandas/core/indexes/base.py:3790\u001b[0m, in \u001b[0;36mIndex.get_loc\u001b[0;34m(self, key)\u001b[0m\n\u001b[1;32m   3789\u001b[0m \u001b[38;5;28;01mtry\u001b[39;00m:\n\u001b[0;32m-> 3790\u001b[0m     \u001b[38;5;28;01mreturn\u001b[39;00m \u001b[38;5;28mself\u001b[39m\u001b[38;5;241m.\u001b[39m_engine\u001b[38;5;241m.\u001b[39mget_loc(casted_key)\n\u001b[1;32m   3791\u001b[0m \u001b[38;5;28;01mexcept\u001b[39;00m \u001b[38;5;167;01mKeyError\u001b[39;00m \u001b[38;5;28;01mas\u001b[39;00m err:\n",
      "File \u001b[0;32mindex.pyx:152\u001b[0m, in \u001b[0;36mpandas._libs.index.IndexEngine.get_loc\u001b[0;34m()\u001b[0m\n",
      "File \u001b[0;32mindex.pyx:181\u001b[0m, in \u001b[0;36mpandas._libs.index.IndexEngine.get_loc\u001b[0;34m()\u001b[0m\n",
      "File \u001b[0;32mpandas/_libs/hashtable_class_helper.pxi:7080\u001b[0m, in \u001b[0;36mpandas._libs.hashtable.PyObjectHashTable.get_item\u001b[0;34m()\u001b[0m\n",
      "File \u001b[0;32mpandas/_libs/hashtable_class_helper.pxi:7088\u001b[0m, in \u001b[0;36mpandas._libs.hashtable.PyObjectHashTable.get_item\u001b[0;34m()\u001b[0m\n",
      "\u001b[0;31mKeyError\u001b[0m: 'asian'",
      "\nThe above exception was the direct cause of the following exception:\n",
      "\u001b[0;31mKeyError\u001b[0m                                  Traceback (most recent call last)",
      "Cell \u001b[0;32mIn[14], line 3\u001b[0m\n\u001b[1;32m      1\u001b[0m highlight \u001b[38;5;241m=\u001b[39m \u001b[38;5;124m'\u001b[39m\u001b[38;5;124masian\u001b[39m\u001b[38;5;124m'\u001b[39m\n\u001b[0;32m----> 3\u001b[0m highlight_idx \u001b[38;5;241m=\u001b[39m data_pd\u001b[38;5;241m.\u001b[39mcolumns\u001b[38;5;241m.\u001b[39mget_loc(highlight)\n\u001b[1;32m      4\u001b[0m plt\u001b[38;5;241m.\u001b[39mscatter(dim_reduced_data[:,\u001b[38;5;241m0\u001b[39m], dim_reduced_data[:,\u001b[38;5;241m1\u001b[39m], c\u001b[38;5;241m=\u001b[39mdata_np[:,highlight_idx])\n",
      "File \u001b[0;32m~/miniconda3/envs/hackatum/lib/python3.11/site-packages/pandas/core/indexes/base.py:3797\u001b[0m, in \u001b[0;36mIndex.get_loc\u001b[0;34m(self, key)\u001b[0m\n\u001b[1;32m   3792\u001b[0m     \u001b[38;5;28;01mif\u001b[39;00m \u001b[38;5;28misinstance\u001b[39m(casted_key, \u001b[38;5;28mslice\u001b[39m) \u001b[38;5;129;01mor\u001b[39;00m (\n\u001b[1;32m   3793\u001b[0m         \u001b[38;5;28misinstance\u001b[39m(casted_key, abc\u001b[38;5;241m.\u001b[39mIterable)\n\u001b[1;32m   3794\u001b[0m         \u001b[38;5;129;01mand\u001b[39;00m \u001b[38;5;28many\u001b[39m(\u001b[38;5;28misinstance\u001b[39m(x, \u001b[38;5;28mslice\u001b[39m) \u001b[38;5;28;01mfor\u001b[39;00m x \u001b[38;5;129;01min\u001b[39;00m casted_key)\n\u001b[1;32m   3795\u001b[0m     ):\n\u001b[1;32m   3796\u001b[0m         \u001b[38;5;28;01mraise\u001b[39;00m InvalidIndexError(key)\n\u001b[0;32m-> 3797\u001b[0m     \u001b[38;5;28;01mraise\u001b[39;00m \u001b[38;5;167;01mKeyError\u001b[39;00m(key) \u001b[38;5;28;01mfrom\u001b[39;00m \u001b[38;5;21;01merr\u001b[39;00m\n\u001b[1;32m   3798\u001b[0m \u001b[38;5;28;01mexcept\u001b[39;00m \u001b[38;5;167;01mTypeError\u001b[39;00m:\n\u001b[1;32m   3799\u001b[0m     \u001b[38;5;66;03m# If we have a listlike key, _check_indexing_error will raise\u001b[39;00m\n\u001b[1;32m   3800\u001b[0m     \u001b[38;5;66;03m#  InvalidIndexError. Otherwise we fall through and re-raise\u001b[39;00m\n\u001b[1;32m   3801\u001b[0m     \u001b[38;5;66;03m#  the TypeError.\u001b[39;00m\n\u001b[1;32m   3802\u001b[0m     \u001b[38;5;28mself\u001b[39m\u001b[38;5;241m.\u001b[39m_check_indexing_error(key)\n",
      "\u001b[0;31mKeyError\u001b[0m: 'asian'"
     ]
    }
   ],
   "source": [
    "highlight = 'asian'\n",
    "\n",
    "highlight_idx = data_pd.columns.get_loc(highlight)\n",
    "plt.scatter(dim_reduced_data[:,0], dim_reduced_data[:,1], c=data_np[:,highlight_idx])"
   ]
  },
  {
   "cell_type": "code",
   "execution_count": 13,
   "id": "d223c9fd",
   "metadata": {
    "scrolled": false
   },
   "outputs": [
    {
     "name": "stdout",
     "output_type": "stream",
     "text": [
      "When Steak Met Potatoes\n",
      "\n",
      "Top 20 similar:\n",
      "0.0: When Steak Met Potatoes\n",
      "0.0: Crushed Peppercorn Steak\n",
      "0.0: Crushed Peppercorn Steak\n",
      "0.0: Crushed Peppercorn Steak\n",
      "0.0: Crushed Peppercorn Steak\n",
      "0.0: Crushed Peppercorn Steak\n",
      "0.0: Crushed Peppercorn Steak\n",
      "0.39: Rosemary Bavette Steak\n",
      "0.41: Rosemary Chicken\n",
      "0.43: Steakhouse Beef Tenderloin\n",
      "0.43: Steakhouse Pork Chops\n",
      "0.43: Ribeye with Tarragon Sauce\n",
      "0.43: Ribeye with Tarragon Sauce\n",
      "0.47: Peppercorn-Crusted Beef Tenderloin\n",
      "0.47: Peppercorn-Crusted Beef Tenderloin\n",
      "0.47: Peppercorn-Crusted Beef Tenderloin\n",
      "0.57: Cheddar-Crusted Chicken\n",
      "0.57: Baby Back Ribs & BBQ Chicken Sandwiches\n",
      "0.58: Steakhouse-Style Pork Chops\n",
      "0.58: Steakhouse-Style Pork Chops\n",
      "\n",
      "Top 20 dissimilar:\n",
      "11.52: Shawarma-Spiced Chickpea Couscous Bowls\n",
      "11.52: Shawarma-Spiced Chickpea Couscous Bowls\n",
      "11.52: Shawarma Chickpea Couscous Bowls\n",
      "11.52: Shawarma-Spiced Chickpea Couscous Bowls\n",
      "11.52: Shawarma-Spiced Chickpea Couscous Bowls\n",
      "11.52: Shawarma Chickpea Couscous Bowls\n",
      "11.74: Coconut Curry with Chickpeas\n",
      "11.74: Coconut Curry with Chickpea & Bell Pepper\n",
      "11.74: Coconut Curry with Chickpeas\n",
      "11.74: Coconut Curry with Chickpeas\n",
      "11.74: Coconut Curry with Chickpeas\n",
      "11.74: Coconut Curry with Chickpeas\n",
      "11.74: Coconut Curry with Chickpeas\n",
      "11.74: Coconut Curry with Chickpeas\n",
      "11.76: Curry-Spiced Chickpea Bowls\n",
      "11.91: Dim Sum Party Plate\n",
      "12.12: Curry-Spiced Chickpea Bowls\n",
      "12.12: Curry-Spiced Chickpea Bowls\n",
      "12.12: Curry-Spiced Chickpea Bowls\n",
      "12.22: Curry-Spiced Chickpea Bowls\n"
     ]
    }
   ],
   "source": [
    "num_recipes = 20\n",
    "idx = 0\n",
    "print(f'{data_pd.index[idx]}')\n",
    "\n",
    "diff = (dim_reduced_data - dim_reduced_data[idx])\n",
    "dist = np.sqrt(np.sum(diff*diff, axis=1))\n",
    "sorted_idx = dist.argsort()\n",
    "\n",
    "print(f'\\nTop {num_recipes} similar:')\n",
    "for i in sorted_idx[:num_recipes]:\n",
    "    print(f'{round(dist[i],2)}: {data_pd.index[i]}')\n",
    "    \n",
    "print(f'\\nTop {num_recipes} dissimilar:')\n",
    "for i in sorted_idx[-num_recipes:]:\n",
    "    print(f'{round(dist[i],2)}: {data_pd.index[i]}')"
   ]
  },
  {
   "cell_type": "code",
   "execution_count": null,
   "id": "c45028d2",
   "metadata": {},
   "outputs": [],
   "source": []
  }
 ],
 "metadata": {
  "kernelspec": {
   "display_name": "Python 3 (ipykernel)",
   "language": "python",
   "name": "python3"
  },
  "language_info": {
   "codemirror_mode": {
    "name": "ipython",
    "version": 3
   },
   "file_extension": ".py",
   "mimetype": "text/x-python",
   "name": "python",
   "nbconvert_exporter": "python",
   "pygments_lexer": "ipython3",
   "version": "3.11.5"
  }
 },
 "nbformat": 4,
 "nbformat_minor": 5
}
